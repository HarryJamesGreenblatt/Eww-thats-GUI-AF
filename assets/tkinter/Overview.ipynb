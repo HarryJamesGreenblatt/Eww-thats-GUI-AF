{
 "cells": [
  {
   "cell_type": "markdown",
   "metadata": {},
   "source": [
    "# `tkinter` Overview"
   ]
  },
  {
   "cell_type": "markdown",
   "metadata": {},
   "source": [
    "### Description"
   ]
  },
  {
   "cell_type": "markdown",
   "metadata": {},
   "source": [
    "An open source GUI library and the continuing de facto standard for portable GUI development in Python. \n",
    "\n",
    "Python scripts that use `tkinter` to build GUIs run portably on Windows, X Windows (Unix and Linux), and Macintosh OS X, and they display a native look-and-feel on each of these platforms today. \n",
    "  \n",
    "`tkinter` makes it easy to build simple and portable GUIs quickly. Moreover, it can be easily augmented with Python code, as well as with larger extension packages such as `Pmw` (a third-party widget library); `Tix` (another widget library, and now a standard part of Python); `PIL` (an image-processing extension); and `ttk` (Tk themed widgets, also now a standard part of Python as of version 3.1).\n",
    "   \n",
    "The underlying Tk library used by `tkinter` is a standard in the open source world at large and is also used by the Perl, Ruby, PHP, Common Lisp, and Tcl scripting languages, giving it a user base that likely numbers in the millions."
   ]
  },
  {
   "cell_type": "markdown",
   "metadata": {},
   "source": [
    "<br>"
   ]
  },
  {
   "cell_type": "markdown",
   "metadata": {},
   "source": [
    "### Primary Documentation Resources"
   ]
  },
  {
   "cell_type": "markdown",
   "metadata": {},
   "source": [
    "- [Python 3.12.2 documentation](https://docs.python.org/3/library/tkinter.html)\n",
    "- [TkDocs Tutorial](https://tkdocs.com/tutorial/)"
   ]
  },
  {
   "cell_type": "markdown",
   "metadata": {},
   "source": [
    "<br>"
   ]
  },
  {
   "cell_type": "markdown",
   "metadata": {},
   "source": [
    "### Extentions"
   ]
  },
  {
   "cell_type": "markdown",
   "metadata": {},
   "source": [
    "|Name|Description|\n",
    "|:---:|:---:|\n",
    "|`Pmw`|*Python Mega Widgets* is an extension toolkit for building high-level compound widgets in Python using the `tkinter` module. It extends the `tkinter` API with a collection of more sophisticated widgets for advanced GUI development and a framework for implementing some of your own. Among the precoded and extensible megawidgets shipped with the package are **notebooks**, **combo boxes**, **selection widgets**, **paned widgets**, **scrolled widgets**, **dialog windows**, **button boxes**, **balloon help**, and an interface to the **Blt graph widget**.|\n",
    "|`Tix`| A collection of more than 40 advanced widgets. This package is now a Python standard library module, called `tkinter`.tix. Like Tk, the underlying library is also shipped today with Python on Windows. In other words, on Windows, if you install Python, you also have `Tix` as a preinstalled library of additional widgets. `Tix` includes many of the same devices as `Pmw`, including **spin boxes**, **trees**, **tabbed notebooks**, **balloon help pop ups**, **paned windows**, and much more...|\n",
    "|`ttk`|Attempts to separate the code implementing a widget’s behavior from that implementing its appearance. Widget classes handle *state* and *callback* invocation, whereas widget appearance is managed separately by *themes*. Comes with *17 widgets*, *11* of which are already present in `tkinter` and are meant as replacements for some of tkinter’s standard widgets, and *6* of which are ***new*** — **Combobox**, **Notebook**, **Progressbar**, **Separator**, **Sizegrip** and **Treeview**.|\n",
    "|`PIL`|The *Python Imaging Library (PIL)* is an open source extension package that adds image-processing tools to Python. Among other things, it provides tools for *image thumbnails*, *transforms*, and *conversions*, and it extends the basic tkinter image object to add support for displaying many image file types. `PIL`, for instance, allows tkinter GUIs to display **JPEG**, **TIFF**, and **PNG** images not supported by the base tkinter toolkit itself (without extension, tkinter supports **GIFs** and a handful of **bitmap** formats).|"
   ]
  },
  {
   "cell_type": "markdown",
   "metadata": {},
   "source": [
    "<br>"
   ]
  },
  {
   "cell_type": "code",
   "execution_count": 6,
   "metadata": {},
   "outputs": [],
   "source": [
    "import tkinter"
   ]
  }
 ],
 "metadata": {
  "kernelspec": {
   "display_name": "thunderdome",
   "language": "python",
   "name": "python3"
  },
  "language_info": {
   "codemirror_mode": {
    "name": "ipython",
    "version": 3
   },
   "file_extension": ".py",
   "mimetype": "text/x-python",
   "name": "python",
   "nbconvert_exporter": "python",
   "pygments_lexer": "ipython3",
   "version": "3.9.13"
  }
 },
 "nbformat": 4,
 "nbformat_minor": 2
}
