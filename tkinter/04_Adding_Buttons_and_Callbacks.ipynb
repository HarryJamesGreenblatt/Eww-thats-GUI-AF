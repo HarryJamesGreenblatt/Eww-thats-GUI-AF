{
 "cells": [
  {
   "cell_type": "markdown",
   "metadata": {},
   "source": [
    "# Adding Buttons and Callbacks\n",
    "---"
   ]
  },
  {
   "cell_type": "markdown",
   "metadata": {},
   "source": []
  },
  {
   "cell_type": "code",
   "execution_count": 1,
   "metadata": {},
   "outputs": [],
   "source": [
    "from tkinter import *"
   ]
  },
  {
   "cell_type": "code",
   "execution_count": 2,
   "metadata": {},
   "outputs": [],
   "source": [
    "from datetime import datetime"
   ]
  },
  {
   "cell_type": "code",
   "execution_count": 3,
   "metadata": {},
   "outputs": [],
   "source": [
    "def get_timestamp():\n",
    "\n",
    "    # Get the current date and time\n",
    "    current_time = datetime.now()\n",
    "\n",
    "    # Format the timestamp\n",
    "    formatted_time = current_time.strftime(\"%A, %d %B, %Y  %H:%M:%S\")\n",
    "\n",
    "    return(f\"Current Timestamp:\\t{formatted_time}\")"
   ]
  },
  {
   "cell_type": "code",
   "execution_count": 4,
   "metadata": {},
   "outputs": [
    {
     "name": "stdout",
     "output_type": "stream",
     "text": [
      "Current Timestamp:\tSunday, 21 April, 2024  21:15:57\n",
      "Current Timestamp:\tSunday, 21 April, 2024  21:16:19\n",
      "Current Timestamp:\tSunday, 21 April, 2024  21:16:27\n"
     ]
    }
   ],
   "source": [
    "import sys\n",
    "\n",
    "\n",
    "window = Tk()\n",
    "\n",
    "widget = Button(window, text='Time Clicked', command=lambda: print(get_timestamp()))\n",
    "\n",
    "widget.pack(expand=YES)\n",
    "\n",
    "window.mainloop()"
   ]
  },
  {
   "cell_type": "code",
   "execution_count": 5,
   "metadata": {},
   "outputs": [],
   "source": [
    "from tkinter import ttk"
   ]
  },
  {
   "cell_type": "code",
   "execution_count": 6,
   "metadata": {},
   "outputs": [],
   "source": [
    "window = Tk()\n",
    "\n",
    "l =ttk.Label(window, text=\"Starting...\")\n",
    "l.grid()\n",
    "l.bind('<Enter>', lambda e: l.configure(text='Moved mouse inside'))\n",
    "l.bind('<Leave>', lambda e: l.configure(text='Moved mouse outside'))\n",
    "l.bind('<ButtonPress-1>', lambda e: l.configure(text='Clicked left mouse button'))\n",
    "l.bind('<3>', lambda e: l.configure(text='Clicked right mouse button'))\n",
    "l.bind('<Double-1>', lambda e: l.configure(text='Double clicked'))\n",
    "l.bind('<B3-Motion>', lambda e: l.configure(text='right button drag to %d,%d' % (e.x, e.y)))\n",
    "\n",
    "window.mainloop()"
   ]
  }
 ],
 "metadata": {
  "kernelspec": {
   "display_name": "thunderdome",
   "language": "python",
   "name": "python3"
  },
  "language_info": {
   "codemirror_mode": {
    "name": "ipython",
    "version": 3
   },
   "file_extension": ".py",
   "mimetype": "text/x-python",
   "name": "python",
   "nbconvert_exporter": "python",
   "pygments_lexer": "ipython3",
   "version": "3.9.13"
  }
 },
 "nbformat": 4,
 "nbformat_minor": 2
}
