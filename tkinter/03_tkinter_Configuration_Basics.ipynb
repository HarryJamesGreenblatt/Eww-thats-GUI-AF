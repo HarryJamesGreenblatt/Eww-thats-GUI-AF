{
 "cells": [
  {
   "cell_type": "markdown",
   "metadata": {},
   "source": [
    "# `tkinter` Configuration Basics \n",
    "---"
   ]
  },
  {
   "cell_type": "markdown",
   "metadata": {},
   "source": [
    "### Topics Discussed"
   ]
  },
  {
   "cell_type": "markdown",
   "metadata": {},
   "source": [
    "| # | Topic | Description |\n",
    "|---|-------|-------------|\n",
    "| 1 | **Importing Tkinter** | Introduction to importing the `tkinter` library for GUI components. |\n",
    "| 2 | **Main Application Window** | Setting up the main application window and configuring the window title. |\n",
    "| 3 | **Label Widget Configuration** | Detailed configuration of a `Label` widget, including text settings and geometry management. |\n",
    "| 4 | **Widget Resizing** | Utilizing `expand` and `fill` options of the `pack` method for dynamic widget resizing. |\n",
    "| 5 | **Tk() Instance as Parent** | Understanding the `Tk()` instance as the default parent for widgets and setting up the parent-child relationship. |\n",
    "| 6 | **Keyword Arguments for Configuration** | Employing keyword arguments for widget initialization and layout management using dictionaries. |"
   ]
  },
  {
   "cell_type": "markdown",
   "metadata": {},
   "source": [
    "<br>"
   ]
  },
  {
   "cell_type": "markdown",
   "metadata": {},
   "source": [
    "Say we import all of `tkinter` to support directly referencing it's members by name "
   ]
  },
  {
   "cell_type": "code",
   "execution_count": 1,
   "metadata": {},
   "outputs": [],
   "source": [
    "from tkinter import *"
   ]
  },
  {
   "cell_type": "markdown",
   "metadata": {},
   "source": [
    "<br>"
   ]
  },
  {
   "cell_type": "markdown",
   "metadata": {},
   "source": [
    "Observe the following GUI implementation:"
   ]
  },
  {
   "cell_type": "code",
   "execution_count": 2,
   "metadata": {},
   "outputs": [],
   "source": [
    "Label(text='Hello GUI world!').pack()\n",
    "mainloop()"
   ]
  },
  {
   "cell_type": "markdown",
   "metadata": {},
   "source": [
    "<img \n",
    "    src=\"../assets/tkinter/HelloGUIExpanded.jpg\" \n",
    "    style=\"display: block; margin: auto; border: 3px solid black\"> \n",
    "</img>"
   ]
  },
  {
   "cell_type": "markdown",
   "metadata": {},
   "source": [
    "By expanding the window, it can be seen that the `Label` stays attached to the top of the parent window instead of staying in the middle on expansion—but it’s easy to improve on this with a pair of `pack`'s configuration options."
   ]
  },
  {
   "cell_type": "markdown",
   "metadata": {},
   "source": [
    "<br>"
   ]
  },
  {
   "cell_type": "markdown",
   "metadata": {},
   "source": [
    "### Widget Resizing Basics"
   ]
  },
  {
   "cell_type": "markdown",
   "metadata": {},
   "source": [
    "When widgets are packed, we can specify whether a widget should `expand` to take up all available space, and if so, how it should stretch to `fill` that space.   \n",
    "\n",
    "> `expand` option \n",
    "> - Asks the packer to expand the allocated space for the widget in general into any unclaimed space in the widget’s parent.\n",
    "> \n",
    "> `fill` option \n",
    "> - Can be used to stretch the widget to occupy all of its allocated space.\n",
    "\n",
    "By default, widgets are *not expanded* when their parent is.   \n",
    "But in this script, the names `YES` and `BOTH` (imported from the `tkinter` module) specify that the label should grow along with its parent, the main window.  "
   ]
  },
  {
   "cell_type": "code",
   "execution_count": 3,
   "metadata": {},
   "outputs": [],
   "source": [
    "Label(text='Hello GUI world!').pack(\n",
    "    expand=YES, \n",
    "    fill=BOTH\n",
    ")\n",
    "\n",
    "mainloop()"
   ]
  },
  {
   "cell_type": "markdown",
   "metadata": {},
   "source": [
    "<img \n",
    "    src=\"../assets/tkinter/HelloGUIExpandedFilled.jpg\" \n",
    "    style=\"display: block; margin: auto; border: 3px solid black\"> \n",
    "</img>"
   ]
  },
  {
   "cell_type": "markdown",
   "metadata": {},
   "source": [
    "<br>"
   ]
  },
  {
   "cell_type": "markdown",
   "metadata": {},
   "source": [
    "### Configuring Widget Options and Window Titles"
   ]
  },
  {
   "cell_type": "markdown",
   "metadata": {},
   "source": [
    "`Tk()` represents the main `window` of the program —- the one that starts when the program does.  \n",
    "   \n",
    "An automatically created `Tk()` instance is also used as the **default parent widget**, both when: \n",
    "1. We *don’t pass any parent argument* to other widget calls\n",
    "2. We *pass the parent as* `None`. \n",
    "     \n",
    "In other words, widgets are simply attached to the main program window by default. \n",
    "   \n",
    "The following script just makes this default behavior explicit by making and passing the `Tk()` object itself."
   ]
  },
  {
   "cell_type": "code",
   "execution_count": 4,
   "metadata": {},
   "outputs": [],
   "source": [
    "# Instantiate a new GUI window\n",
    "window = Tk()\n",
    "\n",
    "\n",
    "# Set the title of the window\n",
    "window.title('Window Title Goes Here')\n",
    "\n",
    "\n",
    "# Instantiate a new Label within the window\n",
    "label_widget = Label( window )\n",
    "\n",
    "\n",
    "# Dynamically change the text that the label displays\n",
    "label_widget.config( text='Hello Configured Widget' )\n",
    "\n",
    "\n",
    "# Manage the Label's geometry, expanding in both directions\n",
    "# as to ensure the Label is centered  \n",
    "label_widget.pack( side=TOP, expand=YES, fill=BOTH )\n",
    "\n",
    "\n",
    "# Draw to the window and execute the event loop\n",
    "window.mainloop()"
   ]
  },
  {
   "cell_type": "markdown",
   "metadata": {},
   "source": [
    "<img \n",
    "    src=\"../assets/tkinter/HelloConfiguredWidget.jpg\" \n",
    "    style=\"display: block; margin: auto; border: 3px solid black\"> \n",
    "</img>"
   ]
  },
  {
   "cell_type": "markdown",
   "metadata": {},
   "source": [
    "#### Alternative Configuration Methods"
   ]
  },
  {
   "cell_type": "markdown",
   "metadata": {},
   "source": [
    "I'ts also possible to initilize widgets using `**kargs`, or *keyword arguments*,  \n",
    "which are dictionaries representing one or more **configuration** or **layout options**"
   ]
  },
  {
   "cell_type": "code",
   "execution_count": 5,
   "metadata": {},
   "outputs": [],
   "source": [
    "# Store configuration options in a dictionary \n",
    "configuration = { 'text': 'Hello Alternatively Configured Widget' }\n",
    "\n",
    "\n",
    "# Store layout options in a dictionary\n",
    "layout =  { 'side': 'right' }\n",
    "\n",
    "\n",
    "# Instantiate a new GUI window\n",
    "window = Tk()\n",
    "\n",
    "\n",
    "# Set the title of the window\n",
    "window.title('Window Title Goes Here')\n",
    "\n",
    "\n",
    "# Instantiate a new Label initialized with the configuration options\n",
    "# and manage the Label's geometry according to the layout options   \n",
    "Label( window, **configuration ).pack( **layout )\n",
    "\n",
    "\n",
    "# Draw to the window and execute the event loop\n",
    "window.mainloop()"
   ]
  },
  {
   "cell_type": "markdown",
   "metadata": {},
   "source": [
    "<img \n",
    "    src=\"../assets/tkinter/HelloAlternativelyConfiguredWidget.jpg\" \n",
    "    style=\"display: block; margin: auto; border: 3px solid black\"> \n",
    "</img>"
   ]
  }
 ],
 "metadata": {
  "kernelspec": {
   "display_name": "thunderdome",
   "language": "python",
   "name": "python3"
  },
  "language_info": {
   "codemirror_mode": {
    "name": "ipython",
    "version": 3
   },
   "file_extension": ".py",
   "mimetype": "text/x-python",
   "name": "python",
   "nbconvert_exporter": "python",
   "pygments_lexer": "ipython3",
   "version": "3.9.13"
  }
 },
 "nbformat": 4,
 "nbformat_minor": 2
}
