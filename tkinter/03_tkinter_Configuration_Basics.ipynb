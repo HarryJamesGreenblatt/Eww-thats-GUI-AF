{
 "cells": [
  {
   "cell_type": "markdown",
   "metadata": {},
   "source": [
    "# `tkinter` Configuration Basics \n",
    "---"
   ]
  },
  {
   "cell_type": "markdown",
   "metadata": {},
   "source": [
    "Observe the following GUI implementation:"
   ]
  },
  {
   "cell_type": "code",
   "execution_count": 4,
   "metadata": {},
   "outputs": [],
   "source": [
    "from tkinter import *\n",
    "Label(text='Hello GUI world!').pack()\n",
    "mainloop()"
   ]
  },
  {
   "cell_type": "markdown",
   "metadata": {},
   "source": [
    "<img \n",
    "    src=\"../assets/tkinter/HelloGUIExpanded.jpg\" \n",
    "    style=\"display: block; margin: auto; border: 3px solid black\"> \n",
    "</img>"
   ]
  },
  {
   "cell_type": "markdown",
   "metadata": {},
   "source": [
    "By expanding the window, it can be seen that the `Label` stays attached to the top of the parent window instead of staying in the middle on expansion—but it’s easy to improve on this with a pair of `pack`'s configuration options."
   ]
  },
  {
   "cell_type": "markdown",
   "metadata": {},
   "source": [
    "<br>"
   ]
  },
  {
   "cell_type": "markdown",
   "metadata": {},
   "source": [
    "### Widget Resizing Basics"
   ]
  },
  {
   "cell_type": "markdown",
   "metadata": {},
   "source": [
    "When widgets are packed, we can specify whether a widget should `expand` to take up all available space, and if so, how it should stretch to `fill` that space.   \n",
    "   \n",
    "By default, widgets are *not expanded* when their parent is.   \n",
    "But in this script, the names `YES` and `BOTH` (imported from the `tkinter` module) specify that the label should grow along with its parent, the main window.   "
   ]
  },
  {
   "cell_type": "markdown",
   "metadata": {},
   "source": [
    "`expand` option \n",
    "- Asks the packer to expand the allocated space for the widget in general into any unclaimed space in the widget’s parent.\n",
    "\n",
    "`fill` option \n",
    "- Can be used to stretch the widget to occupy all of its allocated space."
   ]
  },
  {
   "cell_type": "code",
   "execution_count": 6,
   "metadata": {},
   "outputs": [],
   "source": [
    "from tkinter import *\n",
    "\n",
    "Label(text='Hello GUI world!').pack(\n",
    "    expand=YES, \n",
    "    fill=BOTH\n",
    ")\n",
    "\n",
    "mainloop()"
   ]
  },
  {
   "cell_type": "markdown",
   "metadata": {},
   "source": [
    "<img \n",
    "    src=\"../assets/tkinter/HelloGUIExpandedFilled.jpg\" \n",
    "    style=\"display: block; margin: auto; border: 3px solid black\"> \n",
    "</img>"
   ]
  }
 ],
 "metadata": {
  "kernelspec": {
   "display_name": "thunderdome",
   "language": "python",
   "name": "python3"
  },
  "language_info": {
   "codemirror_mode": {
    "name": "ipython",
    "version": 3
   },
   "file_extension": ".py",
   "mimetype": "text/x-python",
   "name": "python",
   "nbconvert_exporter": "python",
   "pygments_lexer": "ipython3",
   "version": "3.9.13"
  }
 },
 "nbformat": 4,
 "nbformat_minor": 2
}
