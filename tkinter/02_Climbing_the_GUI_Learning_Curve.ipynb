{
 "cells": [
  {
   "cell_type": "markdown",
   "metadata": {},
   "source": [
    "# Climbing the GUI Learning Curve   \n",
    "---"
   ]
  },
  {
   "cell_type": "markdown",
   "metadata": {},
   "source": [
    "### Description"
   ]
  },
  {
   "cell_type": "markdown",
   "metadata": {},
   "source": [
    "A few small examples that illustrate basic concepts and show the windows they create on the computer display."
   ]
  },
  {
   "cell_type": "markdown",
   "metadata": {},
   "source": [
    "<br>"
   ]
  },
  {
   "cell_type": "markdown",
   "metadata": {},
   "source": [
    "### General Coding Pattern"
   ]
  },
  {
   "cell_type": "markdown",
   "metadata": {},
   "source": [
    "Many `tkinter` programs adhere to a similar structure:\n",
    " 1. *Import* one or more widgets from the `tkinter` module\n",
    " 2. *Instantiate* the imported widget(s)\n",
    " 3. *Pack* (arrange) the new widget(s) within any applicable parent widget \n",
    " 4. Call `mainloop` to bring up the window and start the `tkinter` *event loop*"
   ]
  },
  {
   "cell_type": "markdown",
   "metadata": {},
   "source": [
    "<br>"
   ]
  },
  {
   "cell_type": "markdown",
   "metadata": {},
   "source": [
    "### Hello GUI"
   ]
  },
  {
   "cell_type": "code",
   "execution_count": 1,
   "metadata": {},
   "outputs": [],
   "source": [
    "# Import one or more widgets from the `tkinter` module\n",
    "from tkinter import Label \n",
    "\n",
    "\n",
    "# Instantiate the imported widget(s)\n",
    "widget = Label(None, text='Hello GUI world!') \n",
    "\n",
    "\n",
    "# Pack (arrange) the new widget(s) within any applicable parent widget\n",
    "widget.pack()\n",
    "\n",
    "\n",
    "# Call `mainloop` to bring up the window and start the `tkinter` *event loop*\n",
    "widget.mainloop()"
   ]
  },
  {
   "cell_type": "markdown",
   "metadata": {},
   "source": [
    "\n",
    "<img src=\"../assets/tkinter/HelloGUI.jpg\" style=\"display: block; margin: auto\"> </img>"
   ]
  },
  {
   "cell_type": "markdown",
   "metadata": {},
   "source": [
    "This isn’t much to write home about yet, but notice that this is a *completely functional, independent window on the computer’s display*. It can be **maximized** to take up the entire screen, **minimized** to hide it in the system bar, and **resized**."
   ]
  },
  {
   "cell_type": "markdown",
   "metadata": {},
   "source": [
    "<img \n",
    "    src=\"../assets/tkinter/HelloGUIExpanded.jpg\" \n",
    "    style=\"display: block; margin: auto; border: 3px solid black\"> \n",
    "</img>"
   ]
  }
 ],
 "metadata": {
  "kernelspec": {
   "display_name": "thunderdome",
   "language": "python",
   "name": "python3"
  },
  "language_info": {
   "codemirror_mode": {
    "name": "ipython",
    "version": 3
   },
   "file_extension": ".py",
   "mimetype": "text/x-python",
   "name": "python",
   "nbconvert_exporter": "python",
   "pygments_lexer": "ipython3",
   "version": "3.9.13"
  }
 },
 "nbformat": 4,
 "nbformat_minor": 2
}
