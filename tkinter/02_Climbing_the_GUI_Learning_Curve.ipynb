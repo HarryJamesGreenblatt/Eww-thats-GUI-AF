{
 "cells": [
  {
   "cell_type": "markdown",
   "metadata": {},
   "source": [
    "# Climbing the GUI Learning Curve   \n",
    "---"
   ]
  },
  {
   "cell_type": "markdown",
   "metadata": {},
   "source": [
    "### Description"
   ]
  },
  {
   "cell_type": "markdown",
   "metadata": {},
   "source": [
    "A small example which illustrates elementary procedures using `tkinter`, and provides images depicting their resulting output."
   ]
  },
  {
   "cell_type": "markdown",
   "metadata": {},
   "source": [
    "<br>"
   ]
  },
  {
   "cell_type": "markdown",
   "metadata": {},
   "source": [
    "### There's A General Coding Pattern Going On Here"
   ]
  },
  {
   "cell_type": "markdown",
   "metadata": {},
   "source": [
    "Many `tkinter` programs adhere to a similar structure:\n",
    " 1. *Import* one or more widgets from the `tkinter` module\n",
    " 2. *Instantiate* the imported widget(s)\n",
    " 3. Arrange the new widget(s) by managing it's *geometry*  \n",
    " 4. Call `mainloop` to draw to the window and start the `tkinter` *event loop*.   \n",
    "        Within the `mainloop` function, `tkinter` internally monitors things such as the keyboard and mouse to detect usergenerated events. In fact, the `mainloop` function is similar in spirit to the following pseudo-Python code: \n",
    "\n",
    "    ```python\n",
    "        def mainloop():   \n",
    "            while the main window has not been closed:   \n",
    "                if an event has occurred:    \n",
    "                    run the associated event handler function\n",
    "    ```"
   ]
  },
  {
   "cell_type": "markdown",
   "metadata": {},
   "source": [
    "<br>"
   ]
  },
  {
   "cell_type": "markdown",
   "metadata": {},
   "source": [
    "### Hello GUI Example"
   ]
  },
  {
   "cell_type": "code",
   "execution_count": 1,
   "metadata": {},
   "outputs": [],
   "source": [
    "# Import one or more widgets from the tkinter module\n",
    "from tkinter import Label "
   ]
  },
  {
   "cell_type": "markdown",
   "metadata": {},
   "source": [
    "<br>"
   ]
  },
  {
   "cell_type": "markdown",
   "metadata": {},
   "source": [
    "#### `widget` Arguments"
   ]
  },
  {
   "cell_type": "markdown",
   "metadata": {},
   "source": [
    "The script passes two arguments to the Label class constructor: \n",
    "1. The first is a **parent-widget object**, to which the new label will be attached. Here, `None` means *“attach the new Label to the default top-level window of this program.”*\n",
    "2. The second is a **configuration option** for the Label, passed as a *keyword argument*: the `text` option specifies a text string to appear as the label’s message. Most widget constructors accept multiple keyword arguments for specifying a variety of options (*color*, *size*, *callback* *handlers*, and so on)."
   ]
  },
  {
   "cell_type": "code",
   "execution_count": 2,
   "metadata": {},
   "outputs": [],
   "source": [
    "# Instantiate the imported widget(s)\n",
    "widget = Label(\n",
    "    None,                     # parent widget object\n",
    "    text='Hello GUI world!'   # configuration option(s)\n",
    ") "
   ]
  },
  {
   "cell_type": "markdown",
   "metadata": {},
   "source": [
    "<br>"
   ]
  },
  {
   "cell_type": "markdown",
   "metadata": {},
   "source": [
    "#### Geometry Managers"
   ]
  },
  {
   "cell_type": "markdown",
   "metadata": {},
   "source": []
  },
  {
   "cell_type": "code",
   "execution_count": 3,
   "metadata": {},
   "outputs": [],
   "source": [
    "# Arrange the new widget(s) by managing it's geometry\n",
    "widget.pack()"
   ]
  },
  {
   "cell_type": "markdown",
   "metadata": {},
   "source": [
    "<br>"
   ]
  },
  {
   "cell_type": "code",
   "execution_count": 4,
   "metadata": {},
   "outputs": [],
   "source": [
    "# Call mainloop to bring up the window and start the tkinter event loop\n",
    "widget.mainloop()"
   ]
  },
  {
   "cell_type": "markdown",
   "metadata": {},
   "source": [
    "\n",
    "<img src=\"../assets/tkinter/HelloGUI.jpg\" style=\"display: block; margin: auto\"> </img>"
   ]
  },
  {
   "cell_type": "markdown",
   "metadata": {},
   "source": [
    "This isn’t much to write home about yet, but notice that this is a *completely functional, independent window on the computer’s display*. \n",
    "   \n",
    "It can be **maximized** to take up the entire screen, **minimized** to hide it in the system bar, and **resized**."
   ]
  },
  {
   "cell_type": "markdown",
   "metadata": {},
   "source": [
    "<img \n",
    "    src=\"../assets/tkinter/HelloGUIExpanded.jpg\" \n",
    "    style=\"display: block; margin: auto; border: 3px solid black\"> \n",
    "</img>"
   ]
  },
  {
   "cell_type": "markdown",
   "metadata": {},
   "source": [
    "<br>"
   ]
  }
 ],
 "metadata": {
  "kernelspec": {
   "display_name": "thunderdome",
   "language": "python",
   "name": "python3"
  },
  "language_info": {
   "codemirror_mode": {
    "name": "ipython",
    "version": 3
   },
   "file_extension": ".py",
   "mimetype": "text/x-python",
   "name": "python",
   "nbconvert_exporter": "python",
   "pygments_lexer": "ipython3",
   "version": "3.9.13"
  }
 },
 "nbformat": 4,
 "nbformat_minor": 2
}
